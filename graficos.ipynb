{
  "nbformat": 4,
  "nbformat_minor": 0,
  "metadata": {
    "colab": {
      "name": "graficos.ipynb",
      "version": "0.3.2",
      "provenance": [],
      "include_colab_link": true
    },
    "language_info": {
      "codemirror_mode": {
        "name": "ipython",
        "version": 3
      },
      "file_extension": ".py",
      "mimetype": "text/x-python",
      "name": "python",
      "nbconvert_exporter": "python",
      "pygments_lexer": "ipython3",
      "version": "3.7.3"
    },
    "kernelspec": {
      "display_name": "Python 3",
      "language": "python",
      "name": "python3"
    }
  },
  "cells": [
    {
      "cell_type": "markdown",
      "metadata": {
        "id": "view-in-github",
        "colab_type": "text"
      },
      "source": [
        "<a href=\"https://colab.research.google.com/github/Luninni/satelites/blob/master/graficos.ipynb\" target=\"_parent\"><img src=\"https://colab.research.google.com/assets/colab-badge.svg\" alt=\"Open In Colab\"/></a>"
      ]
    },
    {
      "cell_type": "markdown",
      "metadata": {
        "id": "0YYztFbYafj6",
        "colab_type": "text"
      },
      "source": [
        "Primer lote de gráficos, archivo terminado en 10.csv"
      ]
    },
    {
      "cell_type": "code",
      "metadata": {
        "id": "xkXuai6oafj7",
        "colab_type": "code",
        "colab": {
          "base_uri": "https://localhost:8080/",
          "height": 538
        },
        "outputId": "f3f20b86-9703-4234-f107-36889ca0b409"
      },
      "source": [
        "import matplotlib.pyplot as plt \n",
        "%matplotlib\n",
        "nombreArchivo=\"2019-06-13_16_48_21_mtq1_duty_10.csv\"\n",
        "archivo=open(nombreArchivo,\"r\")\n",
        "mx=[]\n",
        "my=[]\n",
        "mz=[]\n",
        "\n",
        "gx=[]\n",
        "gy=[]\n",
        "gz=[]\n",
        "\n",
        "time=[]\n",
        "\n",
        "tail1=[]\n",
        "tail2=[]\n",
        "tail3=[]\n",
        "\n",
        "checksum=[]\n",
        "stringDatos=archivo.readline()\n",
        "while(stringDatos!=\"\"):\n",
        "    dataStr=stringDatos.split(\",\")\n",
        "    #obtener el m y agregarlo al arreglo mx\n",
        "    mx.append(float(dataStr[0]))\n",
        "    my.append(float(dataStr[1]))\n",
        "    mz.append(float(dataStr[2]))\n",
        "    \n",
        "    #obtener el g y agregarlo al arreglo my\n",
        "    gx.append(float(dataStr[3]))\n",
        "    gy.append(float(dataStr[4]))\n",
        "    gz.append(float(dataStr[5]))\n",
        "\n",
        "    #obtener el time y agregarlo al arreglo time\n",
        "    time.append(float(dataStr[6]))\n",
        "    \n",
        "    #obtener el tail y agregarlo a su arreglo\n",
        "    tail1.append(float(dataStr[7]))\n",
        "    tail2.append(float(dataStr[8]))\n",
        "    tail3.append(float(dataStr[9]))\n",
        "    stringDatos=archivo.readline()\n",
        "archivo.close()\n",
        "\n"
      ],
      "execution_count": 1,
      "outputs": [
        {
          "output_type": "error",
          "ename": "ImportError",
          "evalue": "ignored",
          "traceback": [
            "\u001b[0;31m---------------------------------------------------------------------------\u001b[0m",
            "\u001b[0;31mImportError\u001b[0m                               Traceback (most recent call last)",
            "\u001b[0;32m<ipython-input-1-e13d411aecf0>\u001b[0m in \u001b[0;36m<module>\u001b[0;34m()\u001b[0m\n\u001b[1;32m      1\u001b[0m \u001b[0;32mimport\u001b[0m \u001b[0mmatplotlib\u001b[0m\u001b[0;34m.\u001b[0m\u001b[0mpyplot\u001b[0m \u001b[0;32mas\u001b[0m \u001b[0mplt\u001b[0m\u001b[0;34m\u001b[0m\u001b[0;34m\u001b[0m\u001b[0m\n\u001b[0;32m----> 2\u001b[0;31m \u001b[0mget_ipython\u001b[0m\u001b[0;34m(\u001b[0m\u001b[0;34m)\u001b[0m\u001b[0;34m.\u001b[0m\u001b[0mmagic\u001b[0m\u001b[0;34m(\u001b[0m\u001b[0;34m'matplotlib'\u001b[0m\u001b[0;34m)\u001b[0m\u001b[0;34m\u001b[0m\u001b[0;34m\u001b[0m\u001b[0m\n\u001b[0m\u001b[1;32m      3\u001b[0m \u001b[0mnombreArchivo\u001b[0m\u001b[0;34m=\u001b[0m\u001b[0;34m\"2019-06-13_16_48_21_mtq1_duty_10.csv\"\u001b[0m\u001b[0;34m\u001b[0m\u001b[0;34m\u001b[0m\u001b[0m\n\u001b[1;32m      4\u001b[0m \u001b[0marchivo\u001b[0m\u001b[0;34m=\u001b[0m\u001b[0mopen\u001b[0m\u001b[0;34m(\u001b[0m\u001b[0mnombreArchivo\u001b[0m\u001b[0;34m,\u001b[0m\u001b[0;34m\"r\"\u001b[0m\u001b[0;34m)\u001b[0m\u001b[0;34m\u001b[0m\u001b[0;34m\u001b[0m\u001b[0m\n\u001b[1;32m      5\u001b[0m \u001b[0mmx\u001b[0m\u001b[0;34m=\u001b[0m\u001b[0;34m[\u001b[0m\u001b[0;34m]\u001b[0m\u001b[0;34m\u001b[0m\u001b[0;34m\u001b[0m\u001b[0m\n",
            "\u001b[0;32m/usr/local/lib/python3.6/dist-packages/IPython/core/interactiveshell.py\u001b[0m in \u001b[0;36mmagic\u001b[0;34m(self, arg_s)\u001b[0m\n\u001b[1;32m   2158\u001b[0m         \u001b[0mmagic_name\u001b[0m\u001b[0;34m,\u001b[0m \u001b[0m_\u001b[0m\u001b[0;34m,\u001b[0m \u001b[0mmagic_arg_s\u001b[0m \u001b[0;34m=\u001b[0m \u001b[0marg_s\u001b[0m\u001b[0;34m.\u001b[0m\u001b[0mpartition\u001b[0m\u001b[0;34m(\u001b[0m\u001b[0;34m' '\u001b[0m\u001b[0;34m)\u001b[0m\u001b[0;34m\u001b[0m\u001b[0;34m\u001b[0m\u001b[0m\n\u001b[1;32m   2159\u001b[0m         \u001b[0mmagic_name\u001b[0m \u001b[0;34m=\u001b[0m \u001b[0mmagic_name\u001b[0m\u001b[0;34m.\u001b[0m\u001b[0mlstrip\u001b[0m\u001b[0;34m(\u001b[0m\u001b[0mprefilter\u001b[0m\u001b[0;34m.\u001b[0m\u001b[0mESC_MAGIC\u001b[0m\u001b[0;34m)\u001b[0m\u001b[0;34m\u001b[0m\u001b[0;34m\u001b[0m\u001b[0m\n\u001b[0;32m-> 2160\u001b[0;31m         \u001b[0;32mreturn\u001b[0m \u001b[0mself\u001b[0m\u001b[0;34m.\u001b[0m\u001b[0mrun_line_magic\u001b[0m\u001b[0;34m(\u001b[0m\u001b[0mmagic_name\u001b[0m\u001b[0;34m,\u001b[0m \u001b[0mmagic_arg_s\u001b[0m\u001b[0;34m)\u001b[0m\u001b[0;34m\u001b[0m\u001b[0;34m\u001b[0m\u001b[0m\n\u001b[0m\u001b[1;32m   2161\u001b[0m \u001b[0;34m\u001b[0m\u001b[0m\n\u001b[1;32m   2162\u001b[0m     \u001b[0;31m#-------------------------------------------------------------------------\u001b[0m\u001b[0;34m\u001b[0m\u001b[0;34m\u001b[0m\u001b[0;34m\u001b[0m\u001b[0m\n",
            "\u001b[0;32m/usr/local/lib/python3.6/dist-packages/IPython/core/interactiveshell.py\u001b[0m in \u001b[0;36mrun_line_magic\u001b[0;34m(self, magic_name, line)\u001b[0m\n\u001b[1;32m   2079\u001b[0m                 \u001b[0mkwargs\u001b[0m\u001b[0;34m[\u001b[0m\u001b[0;34m'local_ns'\u001b[0m\u001b[0;34m]\u001b[0m \u001b[0;34m=\u001b[0m \u001b[0msys\u001b[0m\u001b[0;34m.\u001b[0m\u001b[0m_getframe\u001b[0m\u001b[0;34m(\u001b[0m\u001b[0mstack_depth\u001b[0m\u001b[0;34m)\u001b[0m\u001b[0;34m.\u001b[0m\u001b[0mf_locals\u001b[0m\u001b[0;34m\u001b[0m\u001b[0;34m\u001b[0m\u001b[0m\n\u001b[1;32m   2080\u001b[0m             \u001b[0;32mwith\u001b[0m \u001b[0mself\u001b[0m\u001b[0;34m.\u001b[0m\u001b[0mbuiltin_trap\u001b[0m\u001b[0;34m:\u001b[0m\u001b[0;34m\u001b[0m\u001b[0;34m\u001b[0m\u001b[0m\n\u001b[0;32m-> 2081\u001b[0;31m                 \u001b[0mresult\u001b[0m \u001b[0;34m=\u001b[0m \u001b[0mfn\u001b[0m\u001b[0;34m(\u001b[0m\u001b[0;34m*\u001b[0m\u001b[0margs\u001b[0m\u001b[0;34m,\u001b[0m\u001b[0;34m**\u001b[0m\u001b[0mkwargs\u001b[0m\u001b[0;34m)\u001b[0m\u001b[0;34m\u001b[0m\u001b[0;34m\u001b[0m\u001b[0m\n\u001b[0m\u001b[1;32m   2082\u001b[0m             \u001b[0;32mreturn\u001b[0m \u001b[0mresult\u001b[0m\u001b[0;34m\u001b[0m\u001b[0;34m\u001b[0m\u001b[0m\n\u001b[1;32m   2083\u001b[0m \u001b[0;34m\u001b[0m\u001b[0m\n",
            "\u001b[0;32m</usr/local/lib/python3.6/dist-packages/decorator.py:decorator-gen-105>\u001b[0m in \u001b[0;36mmatplotlib\u001b[0;34m(self, line)\u001b[0m\n",
            "\u001b[0;32m/usr/local/lib/python3.6/dist-packages/IPython/core/magic.py\u001b[0m in \u001b[0;36m<lambda>\u001b[0;34m(f, *a, **k)\u001b[0m\n\u001b[1;32m    186\u001b[0m     \u001b[0;31m# but it's overkill for just that one bit of state.\u001b[0m\u001b[0;34m\u001b[0m\u001b[0;34m\u001b[0m\u001b[0;34m\u001b[0m\u001b[0m\n\u001b[1;32m    187\u001b[0m     \u001b[0;32mdef\u001b[0m \u001b[0mmagic_deco\u001b[0m\u001b[0;34m(\u001b[0m\u001b[0marg\u001b[0m\u001b[0;34m)\u001b[0m\u001b[0;34m:\u001b[0m\u001b[0;34m\u001b[0m\u001b[0;34m\u001b[0m\u001b[0m\n\u001b[0;32m--> 188\u001b[0;31m         \u001b[0mcall\u001b[0m \u001b[0;34m=\u001b[0m \u001b[0;32mlambda\u001b[0m \u001b[0mf\u001b[0m\u001b[0;34m,\u001b[0m \u001b[0;34m*\u001b[0m\u001b[0ma\u001b[0m\u001b[0;34m,\u001b[0m \u001b[0;34m**\u001b[0m\u001b[0mk\u001b[0m\u001b[0;34m:\u001b[0m \u001b[0mf\u001b[0m\u001b[0;34m(\u001b[0m\u001b[0;34m*\u001b[0m\u001b[0ma\u001b[0m\u001b[0;34m,\u001b[0m \u001b[0;34m**\u001b[0m\u001b[0mk\u001b[0m\u001b[0;34m)\u001b[0m\u001b[0;34m\u001b[0m\u001b[0;34m\u001b[0m\u001b[0m\n\u001b[0m\u001b[1;32m    189\u001b[0m \u001b[0;34m\u001b[0m\u001b[0m\n\u001b[1;32m    190\u001b[0m         \u001b[0;32mif\u001b[0m \u001b[0mcallable\u001b[0m\u001b[0;34m(\u001b[0m\u001b[0marg\u001b[0m\u001b[0;34m)\u001b[0m\u001b[0;34m:\u001b[0m\u001b[0;34m\u001b[0m\u001b[0;34m\u001b[0m\u001b[0m\n",
            "\u001b[0;32m/usr/local/lib/python3.6/dist-packages/IPython/core/magics/pylab.py\u001b[0m in \u001b[0;36mmatplotlib\u001b[0;34m(self, line)\u001b[0m\n\u001b[1;32m     98\u001b[0m             \u001b[0mprint\u001b[0m\u001b[0;34m(\u001b[0m\u001b[0;34m\"Available matplotlib backends: %s\"\u001b[0m \u001b[0;34m%\u001b[0m \u001b[0mbackends_list\u001b[0m\u001b[0;34m)\u001b[0m\u001b[0;34m\u001b[0m\u001b[0;34m\u001b[0m\u001b[0m\n\u001b[1;32m     99\u001b[0m         \u001b[0;32melse\u001b[0m\u001b[0;34m:\u001b[0m\u001b[0;34m\u001b[0m\u001b[0;34m\u001b[0m\u001b[0m\n\u001b[0;32m--> 100\u001b[0;31m             \u001b[0mgui\u001b[0m\u001b[0;34m,\u001b[0m \u001b[0mbackend\u001b[0m \u001b[0;34m=\u001b[0m \u001b[0mself\u001b[0m\u001b[0;34m.\u001b[0m\u001b[0mshell\u001b[0m\u001b[0;34m.\u001b[0m\u001b[0menable_matplotlib\u001b[0m\u001b[0;34m(\u001b[0m\u001b[0margs\u001b[0m\u001b[0;34m.\u001b[0m\u001b[0mgui\u001b[0m\u001b[0;34m)\u001b[0m\u001b[0;34m\u001b[0m\u001b[0;34m\u001b[0m\u001b[0m\n\u001b[0m\u001b[1;32m    101\u001b[0m             \u001b[0mself\u001b[0m\u001b[0;34m.\u001b[0m\u001b[0m_show_matplotlib_backend\u001b[0m\u001b[0;34m(\u001b[0m\u001b[0margs\u001b[0m\u001b[0;34m.\u001b[0m\u001b[0mgui\u001b[0m\u001b[0;34m,\u001b[0m \u001b[0mbackend\u001b[0m\u001b[0;34m)\u001b[0m\u001b[0;34m\u001b[0m\u001b[0;34m\u001b[0m\u001b[0m\n\u001b[1;32m    102\u001b[0m \u001b[0;34m\u001b[0m\u001b[0m\n",
            "\u001b[0;32m/usr/local/lib/python3.6/dist-packages/IPython/core/interactiveshell.py\u001b[0m in \u001b[0;36menable_matplotlib\u001b[0;34m(self, gui)\u001b[0m\n\u001b[1;32m   2948\u001b[0m                 \u001b[0mgui\u001b[0m\u001b[0;34m,\u001b[0m \u001b[0mbackend\u001b[0m \u001b[0;34m=\u001b[0m \u001b[0mpt\u001b[0m\u001b[0;34m.\u001b[0m\u001b[0mfind_gui_and_backend\u001b[0m\u001b[0;34m(\u001b[0m\u001b[0mself\u001b[0m\u001b[0;34m.\u001b[0m\u001b[0mpylab_gui_select\u001b[0m\u001b[0;34m)\u001b[0m\u001b[0;34m\u001b[0m\u001b[0;34m\u001b[0m\u001b[0m\n\u001b[1;32m   2949\u001b[0m \u001b[0;34m\u001b[0m\u001b[0m\n\u001b[0;32m-> 2950\u001b[0;31m         \u001b[0mpt\u001b[0m\u001b[0;34m.\u001b[0m\u001b[0mactivate_matplotlib\u001b[0m\u001b[0;34m(\u001b[0m\u001b[0mbackend\u001b[0m\u001b[0;34m)\u001b[0m\u001b[0;34m\u001b[0m\u001b[0;34m\u001b[0m\u001b[0m\n\u001b[0m\u001b[1;32m   2951\u001b[0m         \u001b[0mpt\u001b[0m\u001b[0;34m.\u001b[0m\u001b[0mconfigure_inline_support\u001b[0m\u001b[0;34m(\u001b[0m\u001b[0mself\u001b[0m\u001b[0;34m,\u001b[0m \u001b[0mbackend\u001b[0m\u001b[0;34m)\u001b[0m\u001b[0;34m\u001b[0m\u001b[0;34m\u001b[0m\u001b[0m\n\u001b[1;32m   2952\u001b[0m \u001b[0;34m\u001b[0m\u001b[0m\n",
            "\u001b[0;32m/usr/local/lib/python3.6/dist-packages/IPython/core/pylabtools.py\u001b[0m in \u001b[0;36mactivate_matplotlib\u001b[0;34m(backend)\u001b[0m\n\u001b[1;32m    307\u001b[0m \u001b[0;34m\u001b[0m\u001b[0m\n\u001b[1;32m    308\u001b[0m     \u001b[0;32mimport\u001b[0m \u001b[0mmatplotlib\u001b[0m\u001b[0;34m.\u001b[0m\u001b[0mpyplot\u001b[0m\u001b[0;34m\u001b[0m\u001b[0;34m\u001b[0m\u001b[0m\n\u001b[0;32m--> 309\u001b[0;31m     \u001b[0mmatplotlib\u001b[0m\u001b[0;34m.\u001b[0m\u001b[0mpyplot\u001b[0m\u001b[0;34m.\u001b[0m\u001b[0mswitch_backend\u001b[0m\u001b[0;34m(\u001b[0m\u001b[0mbackend\u001b[0m\u001b[0;34m)\u001b[0m\u001b[0;34m\u001b[0m\u001b[0;34m\u001b[0m\u001b[0m\n\u001b[0m\u001b[1;32m    310\u001b[0m \u001b[0;34m\u001b[0m\u001b[0m\n\u001b[1;32m    311\u001b[0m     \u001b[0;31m# This must be imported last in the matplotlib series, after\u001b[0m\u001b[0;34m\u001b[0m\u001b[0;34m\u001b[0m\u001b[0;34m\u001b[0m\u001b[0m\n",
            "\u001b[0;32m/usr/local/lib/python3.6/dist-packages/matplotlib/pyplot.py\u001b[0m in \u001b[0;36mswitch_backend\u001b[0;34m(newbackend)\u001b[0m\n\u001b[1;32m    220\u001b[0m                 \u001b[0;34m\"Cannot load backend {!r} which requires the {!r} interactive \"\u001b[0m\u001b[0;34m\u001b[0m\u001b[0;34m\u001b[0m\u001b[0m\n\u001b[1;32m    221\u001b[0m                 \"framework, as {!r} is currently running\".format(\n\u001b[0;32m--> 222\u001b[0;31m                     newbackend, required_framework, current_framework))\n\u001b[0m\u001b[1;32m    223\u001b[0m \u001b[0;34m\u001b[0m\u001b[0m\n\u001b[1;32m    224\u001b[0m     \u001b[0mrcParams\u001b[0m\u001b[0;34m[\u001b[0m\u001b[0;34m'backend'\u001b[0m\u001b[0;34m]\u001b[0m \u001b[0;34m=\u001b[0m \u001b[0mrcParamsDefault\u001b[0m\u001b[0;34m[\u001b[0m\u001b[0;34m'backend'\u001b[0m\u001b[0;34m]\u001b[0m \u001b[0;34m=\u001b[0m \u001b[0mnewbackend\u001b[0m\u001b[0;34m\u001b[0m\u001b[0;34m\u001b[0m\u001b[0m\n",
            "\u001b[0;31mImportError\u001b[0m: Cannot load backend 'TkAgg' which requires the 'tk' interactive framework, as 'headless' is currently running",
            "",
            "\u001b[0;31m---------------------------------------------------------------------------\u001b[0;32m\nNOTE: If your import is failing due to a missing package, you can\nmanually install dependencies using either !pip or !apt.\n\nTo view examples of installing some common dependencies, click the\n\"Open Examples\" button below.\n\u001b[0;31m---------------------------------------------------------------------------\u001b[0m\n"
          ]
        }
      ]
    },
    {
      "cell_type": "code",
      "metadata": {
        "id": "WQAKB-8_afkC",
        "colab_type": "code",
        "colab": {
          "base_uri": "https://localhost:8080/",
          "height": 229
        },
        "outputId": "7d43b1ce-0677-42ee-ace9-0bea07da1670"
      },
      "source": [
        "plt.plot(time,mx)\n",
        "plt.xlabel(\"Tiempo\")\n",
        "plt.ylabel(\"mx\")\n",
        "plt.title(\"Eje x de M en función del tiempo\")\n",
        "plt.show()"
      ],
      "execution_count": 2,
      "outputs": [
        {
          "output_type": "error",
          "ename": "NameError",
          "evalue": "ignored",
          "traceback": [
            "\u001b[0;31m---------------------------------------------------------------------------\u001b[0m",
            "\u001b[0;31mNameError\u001b[0m                                 Traceback (most recent call last)",
            "\u001b[0;32m<ipython-input-2-3fe2224d7923>\u001b[0m in \u001b[0;36m<module>\u001b[0;34m()\u001b[0m\n\u001b[0;32m----> 1\u001b[0;31m \u001b[0mplt\u001b[0m\u001b[0;34m.\u001b[0m\u001b[0mplot\u001b[0m\u001b[0;34m(\u001b[0m\u001b[0mtime\u001b[0m\u001b[0;34m,\u001b[0m\u001b[0mmx\u001b[0m\u001b[0;34m)\u001b[0m\u001b[0;34m\u001b[0m\u001b[0;34m\u001b[0m\u001b[0m\n\u001b[0m\u001b[1;32m      2\u001b[0m \u001b[0mplt\u001b[0m\u001b[0;34m.\u001b[0m\u001b[0mxlabel\u001b[0m\u001b[0;34m(\u001b[0m\u001b[0;34m\"Tiempo\"\u001b[0m\u001b[0;34m)\u001b[0m\u001b[0;34m\u001b[0m\u001b[0;34m\u001b[0m\u001b[0m\n\u001b[1;32m      3\u001b[0m \u001b[0mplt\u001b[0m\u001b[0;34m.\u001b[0m\u001b[0mylabel\u001b[0m\u001b[0;34m(\u001b[0m\u001b[0;34m\"mx\"\u001b[0m\u001b[0;34m)\u001b[0m\u001b[0;34m\u001b[0m\u001b[0;34m\u001b[0m\u001b[0m\n\u001b[1;32m      4\u001b[0m \u001b[0mplt\u001b[0m\u001b[0;34m.\u001b[0m\u001b[0mtitle\u001b[0m\u001b[0;34m(\u001b[0m\u001b[0;34m\"Eje x de M en función del tiempo\"\u001b[0m\u001b[0;34m)\u001b[0m\u001b[0;34m\u001b[0m\u001b[0;34m\u001b[0m\u001b[0m\n\u001b[1;32m      5\u001b[0m \u001b[0mplt\u001b[0m\u001b[0;34m.\u001b[0m\u001b[0mshow\u001b[0m\u001b[0;34m(\u001b[0m\u001b[0;34m)\u001b[0m\u001b[0;34m\u001b[0m\u001b[0;34m\u001b[0m\u001b[0m\n",
            "\u001b[0;31mNameError\u001b[0m: name 'time' is not defined"
          ]
        }
      ]
    },
    {
      "cell_type": "code",
      "metadata": {
        "id": "_A6ddnC_afkI",
        "colab_type": "code",
        "colab": {}
      },
      "source": [
        "plt.plot(time,my)\n",
        "plt.xlabel(\"Tiempo\")\n",
        "plt.ylabel(\"my\")\n",
        "plt.title(\"Eje Y de M en función del tiempo\")\n",
        "plt.show()"
      ],
      "execution_count": 0,
      "outputs": []
    },
    {
      "cell_type": "code",
      "metadata": {
        "id": "5u4BQNNFafkM",
        "colab_type": "code",
        "colab": {}
      },
      "source": [
        ""
      ],
      "execution_count": 0,
      "outputs": []
    },
    {
      "cell_type": "code",
      "metadata": {
        "id": "-pzoO3MKafkP",
        "colab_type": "code",
        "colab": {}
      },
      "source": [
        "plt.plot(time,mz)\n",
        "plt.xlabel(\"Tiempo\")\n",
        "plt.ylabel(\"mz\")\n",
        "plt.title(\"Eje Z de M en función del tiempo\")\n",
        "plt.show()"
      ],
      "execution_count": 0,
      "outputs": []
    },
    {
      "cell_type": "code",
      "metadata": {
        "id": "xrJhz7FNafkT",
        "colab_type": "code",
        "colab": {}
      },
      "source": [
        "plt.plot(time,gx)\n",
        "plt.xlabel(\"Tiempo\")\n",
        "plt.ylabel(\"gx\")\n",
        "plt.title(\"Eje X de G en función del tiempo\")\n",
        "plt.show()"
      ],
      "execution_count": 0,
      "outputs": []
    },
    {
      "cell_type": "code",
      "metadata": {
        "id": "vazolRmiafkY",
        "colab_type": "code",
        "colab": {}
      },
      "source": [
        "plt.plot(time,gy)\n",
        "plt.xlabel(\"Tiempo\")\n",
        "plt.ylabel(\"gy\")\n",
        "plt.title(\"Eje Y de G en función del tiempo\")\n",
        "plt.show()"
      ],
      "execution_count": 0,
      "outputs": []
    },
    {
      "cell_type": "code",
      "metadata": {
        "scrolled": false,
        "id": "wHVlAKpmafkd",
        "colab_type": "code",
        "colab": {}
      },
      "source": [
        "plt.plot(time,gz)\n",
        "plt.xlabel(\"Tiempo\")\n",
        "plt.ylabel(\"gz\")\n",
        "plt.title(\"Eje Z de G en función del tiempo\")\n",
        "plt.show()"
      ],
      "execution_count": 0,
      "outputs": []
    },
    {
      "cell_type": "code",
      "metadata": {
        "id": "UeR9xc4Safki",
        "colab_type": "code",
        "colab": {}
      },
      "source": [
        "plt.plot(time,tail1)\n",
        "plt.xlabel(\"Tiempo\")\n",
        "plt.ylabel(\"Tail1\")\n",
        "plt.title(\"Tail1 en función del tiempo\")\n",
        "plt.show()"
      ],
      "execution_count": 0,
      "outputs": []
    },
    {
      "cell_type": "code",
      "metadata": {
        "id": "i270T8e1afkm",
        "colab_type": "code",
        "colab": {}
      },
      "source": [
        "plt.plot(time,tail2)\n",
        "plt.xlabel(\"Tiempo\")\n",
        "plt.ylabel(\"Tail2\")\n",
        "plt.title(\"Tail2 en función del tiempo\")\n",
        "plt.show()"
      ],
      "execution_count": 0,
      "outputs": []
    },
    {
      "cell_type": "code",
      "metadata": {
        "id": "AUc4fqkFafkq",
        "colab_type": "code",
        "colab": {}
      },
      "source": [
        "plt.plot(time,tail3)\n",
        "plt.xlabel(\"Tiempo\")\n",
        "plt.ylabel(\"Tail3\")\n",
        "plt.title(\"Tail3 en función del tiempo\")\n",
        "plt.show()"
      ],
      "execution_count": 0,
      "outputs": []
    },
    {
      "cell_type": "markdown",
      "metadata": {
        "id": "ENS_yGy2afku",
        "colab_type": "text"
      },
      "source": [
        "Segundo lote de gráficos, correspondiente al archivo terminado en *20.csv"
      ]
    },
    {
      "cell_type": "code",
      "metadata": {
        "scrolled": true,
        "id": "pjeuXFqcafkv",
        "colab_type": "code",
        "colab": {}
      },
      "source": [
        "import matplotlib.pyplot as plt \n",
        "%matplotlib\n",
        "nombreArchivo=\"2019-06-13_16_54_44_mtq1_duty20.csv\"\n",
        "archivo=open(nombreArchivo,\"r\")\n",
        "mx2=[]\n",
        "my2=[]\n",
        "mz2=[]\n",
        "\n",
        "gx2=[]\n",
        "gy2=[]\n",
        "gz2=[]\n",
        "\n",
        "time2=[]\n",
        "\n",
        "tail12=[]\n",
        "tail22=[]\n",
        "tail32=[]\n",
        "\n",
        "checksum2=[]\n",
        "stringDatos=archivo.readline()\n",
        "while(stringDatos!=\"\"):\n",
        "    dataStr=stringDatos.split(\",\")\n",
        "    #obtener el m y agregarlo al arreglo mx\n",
        "    mx2.append(float(dataStr[0]))\n",
        "    my2.append(float(dataStr[1]))\n",
        "    mz2.append(float(dataStr[2]))\n",
        "    \n",
        "    #obtener el g y agregarlo al arreglo my\n",
        "    gx2.append(float(dataStr[3]))\n",
        "    gy2.append(float(dataStr[4]))\n",
        "    gz2.append(float(dataStr[5]))\n",
        "\n",
        "    #obtener el time y agregarlo al arreglo time\n",
        "    time2.append(float(dataStr[6]))\n",
        "    \n",
        "    #obtener el tail y agregarlo a su arreglo\n",
        "    tail12.append(float(dataStr[7]))\n",
        "    tail22.append(float(dataStr[8]))\n",
        "    tail32.append(float(dataStr[9]))\n",
        "    stringDatos=archivo.readline()\n",
        "archivo.close()"
      ],
      "execution_count": 0,
      "outputs": []
    },
    {
      "cell_type": "code",
      "metadata": {
        "id": "MoawpCP9afk1",
        "colab_type": "code",
        "colab": {}
      },
      "source": [
        "plt.plot(time2,mx2)\n",
        "plt.xlabel(\"Tiempo\")\n",
        "plt.ylabel(\"mx\")\n",
        "plt.title(\"Eje x de M en función del tiempo\")\n",
        "plt.show()"
      ],
      "execution_count": 0,
      "outputs": []
    },
    {
      "cell_type": "code",
      "metadata": {
        "id": "2wLbaNfrafk5",
        "colab_type": "code",
        "colab": {}
      },
      "source": [
        "plt.plot(time2,my2)\n",
        "plt.xlabel(\"Tiempo\")\n",
        "plt.ylabel(\"my\")\n",
        "plt.title(\"Eje Y de M en función del tiempo\")\n",
        "plt.show()"
      ],
      "execution_count": 0,
      "outputs": []
    },
    {
      "cell_type": "code",
      "metadata": {
        "id": "3blb24niafk8",
        "colab_type": "code",
        "colab": {}
      },
      "source": [
        "plt.plot(time2,mz2)\n",
        "plt.xlabel(\"Tiempo\")\n",
        "plt.ylabel(\"mz\")\n",
        "plt.title(\"Eje Z de M en función del tiempo\")\n",
        "plt.show()"
      ],
      "execution_count": 0,
      "outputs": []
    },
    {
      "cell_type": "code",
      "metadata": {
        "id": "y-iH9bGtaflB",
        "colab_type": "code",
        "colab": {}
      },
      "source": [
        "plt.plot(time2,gx2)\n",
        "plt.xlabel(\"Tiempo\")\n",
        "plt.ylabel(\"gx\")\n",
        "plt.title(\"Eje x de G en función del tiempo\")\n",
        "plt.show()"
      ],
      "execution_count": 0,
      "outputs": []
    },
    {
      "cell_type": "code",
      "metadata": {
        "id": "sJcfESeXaflF",
        "colab_type": "code",
        "colab": {}
      },
      "source": [
        "plt.plot(time2,gy2)\n",
        "plt.xlabel(\"Tiempo\")\n",
        "plt.ylabel(\"gy\")\n",
        "plt.title(\"Eje Y de G en función del tiempo\")\n",
        "plt.show()"
      ],
      "execution_count": 0,
      "outputs": []
    },
    {
      "cell_type": "code",
      "metadata": {
        "id": "i4vHv19EaflI",
        "colab_type": "code",
        "colab": {}
      },
      "source": [
        "plt.plot(time2,gz2)\n",
        "plt.xlabel(\"Tiempo\")\n",
        "plt.ylabel(\"gz\")\n",
        "plt.title(\"Eje Z de G en función del tiempo\")\n",
        "plt.show()"
      ],
      "execution_count": 0,
      "outputs": []
    },
    {
      "cell_type": "markdown",
      "metadata": {
        "id": "P1trXKBBaflO",
        "colab_type": "text"
      },
      "source": [
        "Tercer lote de graficos, correspondiente al archivo terminado en 30.csv"
      ]
    },
    {
      "cell_type": "code",
      "metadata": {
        "id": "VStNfV3paflP",
        "colab_type": "code",
        "colab": {}
      },
      "source": [
        "import matplotlib.pyplot as plt \n",
        "\n",
        "nombreArchivo=\"2019-06-13_17_02_10_duty30.csv\"\n",
        "archivo=open(nombreArchivo,\"r\")\n",
        "mx3=[]\n",
        "my3=[]\n",
        "mz3=[]\n",
        "\n",
        "gx3=[]\n",
        "gy3=[]\n",
        "gz3=[]\n",
        "\n",
        "time3=[]\n",
        "\n",
        "tail13=[]\n",
        "tail23=[]\n",
        "tail33=[]\n",
        "\n",
        "checksum3=[]\n",
        "stringDatos=archivo.readline()\n",
        "while(stringDatos!=\"\"):\n",
        "    dataStr=stringDatos.split(\",\")\n",
        "    #obtener el m y agregarlo al arreglo mx\n",
        "    mx3.append(float(dataStr[0]))\n",
        "    my3.append(float(dataStr[1]))\n",
        "    mz3.append(float(dataStr[2]))\n",
        "    \n",
        "    #obtener el g y agregarlo al arreglo my\n",
        "    gx3.append(float(dataStr[3]))\n",
        "    gy3.append(float(dataStr[4]))\n",
        "    gz3.append(float(dataStr[5]))\n",
        "\n",
        "    #obtener el time y agregarlo al arreglo time\n",
        "    time3.append(float(dataStr[6]))\n",
        "    \n",
        "    #obtener el tail y agregarlo a su arreglo\n",
        "    tail13.append(float(dataStr[7]))\n",
        "    tail23.append(float(dataStr[8]))\n",
        "    tail33.append(float(dataStr[9]))\n",
        "    stringDatos=archivo.readline()\n",
        "archivo.close()"
      ],
      "execution_count": 0,
      "outputs": []
    },
    {
      "cell_type": "code",
      "metadata": {
        "id": "L-uM3tSAaflW",
        "colab_type": "code",
        "colab": {}
      },
      "source": [
        "plt.plot(time3,mx3)\n",
        "plt.xlabel(\"Tiempo\")\n",
        "plt.ylabel(\"mx\")\n",
        "plt.title(\"Eje x de M en función del tiempo\")\n",
        "plt.show()"
      ],
      "execution_count": 0,
      "outputs": []
    },
    {
      "cell_type": "code",
      "metadata": {
        "id": "q4nHz-BxaflZ",
        "colab_type": "code",
        "colab": {}
      },
      "source": [
        "plt.plot(time3,my3)\n",
        "plt.xlabel(\"Tiempo\")\n",
        "plt.ylabel(\"my\")\n",
        "plt.title(\"Eje Y de M en función del tiempo\")\n",
        "plt.show()"
      ],
      "execution_count": 0,
      "outputs": []
    },
    {
      "cell_type": "code",
      "metadata": {
        "id": "fsrMowU6aflb",
        "colab_type": "code",
        "colab": {}
      },
      "source": [
        "plt.plot(time3,mz3)\n",
        "plt.xlabel(\"Tiempo\")\n",
        "plt.ylabel(\"mz\")\n",
        "plt.title(\"Eje Z de M en función del tiempo\")\n",
        "plt.show()"
      ],
      "execution_count": 0,
      "outputs": []
    }
  ]
}